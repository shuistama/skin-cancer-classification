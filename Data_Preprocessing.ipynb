{
 "cells": [
  {
   "cell_type": "markdown",
   "metadata": {},
   "source": [
    "# UAS DTS AI 2019\n",
    "<b>Nama : Yusuf Pratama</b><br>\n",
    "<b>Kelas : AI 3</b>"
   ]
  },
  {
   "cell_type": "markdown",
   "metadata": {},
   "source": [
    "<b>Import Library</b>"
   ]
  },
  {
   "cell_type": "code",
   "execution_count": 2,
   "metadata": {},
   "outputs": [],
   "source": [
    "import pandas as pd\n",
    "import numpy as np \n",
    "import seaborn as sns\n",
    "import matplotlib.pyplot as plt\n",
    "%matplotlib inline\n",
    "import os\n",
    "import shutil \n",
    "import sys"
   ]
  },
  {
   "cell_type": "markdown",
   "metadata": {},
   "source": [
    "<b>Data Preprocessing</b>"
   ]
  },
  {
   "cell_type": "code",
   "execution_count": 3,
   "metadata": {},
   "outputs": [],
   "source": [
    "df = pd.read_excel('PH2_dataset_new.xlsx')"
   ]
  },
  {
   "cell_type": "code",
   "execution_count": 4,
   "metadata": {},
   "outputs": [],
   "source": [
    "df.fillna(0,inplace=True)"
   ]
  },
  {
   "cell_type": "code",
   "execution_count": 5,
   "metadata": {},
   "outputs": [],
   "source": [
    "df.drop(df.index[0],inplace=True)"
   ]
  },
  {
   "cell_type": "code",
   "execution_count": 6,
   "metadata": {},
   "outputs": [
    {
     "data": {
      "text/html": [
       "<div>\n",
       "<style scoped>\n",
       "    .dataframe tbody tr th:only-of-type {\n",
       "        vertical-align: middle;\n",
       "    }\n",
       "\n",
       "    .dataframe tbody tr th {\n",
       "        vertical-align: top;\n",
       "    }\n",
       "\n",
       "    .dataframe thead th {\n",
       "        text-align: right;\n",
       "    }\n",
       "</style>\n",
       "<table border=\"1\" class=\"dataframe\">\n",
       "  <thead>\n",
       "    <tr style=\"text-align: right;\">\n",
       "      <th></th>\n",
       "      <th>Image Name</th>\n",
       "      <th>Histological Diagnosis</th>\n",
       "      <th>Common Nevus</th>\n",
       "      <th>Atypical Nevus</th>\n",
       "      <th>Melanoma</th>\n",
       "      <th>Asymmetry\n",
       "(0/1/2)</th>\n",
       "      <th>Pigment Network\n",
       "(AT/T)</th>\n",
       "      <th>Dots/Globules\n",
       "(A/AT/T)</th>\n",
       "      <th>Streaks\n",
       "(A/P)</th>\n",
       "      <th>Regression Areas\n",
       "(A/P)</th>\n",
       "      <th>Blue-Whitish Veil\n",
       "(A/P)</th>\n",
       "      <th>White</th>\n",
       "      <th>Red</th>\n",
       "      <th>Light-Brown</th>\n",
       "      <th>Dark-Brown</th>\n",
       "      <th>Blue-Gray</th>\n",
       "      <th>Black</th>\n",
       "    </tr>\n",
       "  </thead>\n",
       "  <tbody>\n",
       "    <tr>\n",
       "      <th>1</th>\n",
       "      <td>IMD009</td>\n",
       "      <td>0</td>\n",
       "      <td>X</td>\n",
       "      <td>0</td>\n",
       "      <td>0</td>\n",
       "      <td>0</td>\n",
       "      <td>T</td>\n",
       "      <td>A</td>\n",
       "      <td>A</td>\n",
       "      <td>A</td>\n",
       "      <td>A</td>\n",
       "      <td>0</td>\n",
       "      <td>0</td>\n",
       "      <td>X</td>\n",
       "      <td>0</td>\n",
       "      <td>0</td>\n",
       "      <td>0</td>\n",
       "    </tr>\n",
       "    <tr>\n",
       "      <th>2</th>\n",
       "      <td>IMD016</td>\n",
       "      <td>0</td>\n",
       "      <td>X</td>\n",
       "      <td>0</td>\n",
       "      <td>0</td>\n",
       "      <td>0</td>\n",
       "      <td>T</td>\n",
       "      <td>T</td>\n",
       "      <td>A</td>\n",
       "      <td>A</td>\n",
       "      <td>A</td>\n",
       "      <td>0</td>\n",
       "      <td>0</td>\n",
       "      <td>X</td>\n",
       "      <td>X</td>\n",
       "      <td>0</td>\n",
       "      <td>0</td>\n",
       "    </tr>\n",
       "    <tr>\n",
       "      <th>3</th>\n",
       "      <td>IMD022</td>\n",
       "      <td>0</td>\n",
       "      <td>X</td>\n",
       "      <td>0</td>\n",
       "      <td>0</td>\n",
       "      <td>0</td>\n",
       "      <td>T</td>\n",
       "      <td>A</td>\n",
       "      <td>A</td>\n",
       "      <td>A</td>\n",
       "      <td>A</td>\n",
       "      <td>0</td>\n",
       "      <td>0</td>\n",
       "      <td>X</td>\n",
       "      <td>0</td>\n",
       "      <td>0</td>\n",
       "      <td>0</td>\n",
       "    </tr>\n",
       "    <tr>\n",
       "      <th>4</th>\n",
       "      <td>IMD024</td>\n",
       "      <td>0</td>\n",
       "      <td>X</td>\n",
       "      <td>0</td>\n",
       "      <td>0</td>\n",
       "      <td>0</td>\n",
       "      <td>T</td>\n",
       "      <td>A</td>\n",
       "      <td>A</td>\n",
       "      <td>A</td>\n",
       "      <td>A</td>\n",
       "      <td>0</td>\n",
       "      <td>0</td>\n",
       "      <td>X</td>\n",
       "      <td>X</td>\n",
       "      <td>0</td>\n",
       "      <td>0</td>\n",
       "    </tr>\n",
       "    <tr>\n",
       "      <th>5</th>\n",
       "      <td>IMD025</td>\n",
       "      <td>0</td>\n",
       "      <td>X</td>\n",
       "      <td>0</td>\n",
       "      <td>0</td>\n",
       "      <td>0</td>\n",
       "      <td>T</td>\n",
       "      <td>T</td>\n",
       "      <td>A</td>\n",
       "      <td>A</td>\n",
       "      <td>A</td>\n",
       "      <td>0</td>\n",
       "      <td>0</td>\n",
       "      <td>X</td>\n",
       "      <td>0</td>\n",
       "      <td>0</td>\n",
       "      <td>0</td>\n",
       "    </tr>\n",
       "  </tbody>\n",
       "</table>\n",
       "</div>"
      ],
      "text/plain": [
       "  Image Name Histological Diagnosis Common Nevus Atypical Nevus Melanoma  \\\n",
       "1     IMD009                      0            X              0        0   \n",
       "2     IMD016                      0            X              0        0   \n",
       "3     IMD022                      0            X              0        0   \n",
       "4     IMD024                      0            X              0        0   \n",
       "5     IMD025                      0            X              0        0   \n",
       "\n",
       "   Asymmetry\\n(0/1/2) Pigment Network\\n(AT/T) Dots/Globules\\n(A/AT/T)  \\\n",
       "1                   0                       T                       A   \n",
       "2                   0                       T                       T   \n",
       "3                   0                       T                       A   \n",
       "4                   0                       T                       A   \n",
       "5                   0                       T                       T   \n",
       "\n",
       "  Streaks\\n(A/P) Regression Areas\\n(A/P) Blue-Whitish Veil\\n(A/P) White Red  \\\n",
       "1              A                       A                        A     0   0   \n",
       "2              A                       A                        A     0   0   \n",
       "3              A                       A                        A     0   0   \n",
       "4              A                       A                        A     0   0   \n",
       "5              A                       A                        A     0   0   \n",
       "\n",
       "  Light-Brown Dark-Brown Blue-Gray Black  \n",
       "1           X          0         0     0  \n",
       "2           X          X         0     0  \n",
       "3           X          0         0     0  \n",
       "4           X          X         0     0  \n",
       "5           X          0         0     0  "
      ]
     },
     "execution_count": 6,
     "metadata": {},
     "output_type": "execute_result"
    }
   ],
   "source": [
    "df.head()"
   ]
  },
  {
   "cell_type": "code",
   "execution_count": 8,
   "metadata": {},
   "outputs": [],
   "source": [
    "df.rename(columns={'Asymmetry\\n(0/1/2)':'Asymmetry',\n",
    "                  'Image Name':'img_name', 'Histological Diagnosis':'hist_diag', \n",
    "                   'Common Nevus':'common_nevus','Atypical Nevus':'atypical_nevus',\n",
    "                   'Pigment Network\\n(AT/T)':'pigment_network', 'Dots/Globules\\n(A/AT/T)':'Dots/Globules', \n",
    "                   'Streaks\\n(A/P)':'Streaks','Regression Areas\\n(A/P)':'Regression_areas', \n",
    "                   'Blue-Whitish Veil\\n(A/P)':'Blue_Whitish Veil'},inplace=True)"
   ]
  },
  {
   "cell_type": "code",
   "execution_count": 9,
   "metadata": {},
   "outputs": [],
   "source": [
    "common_nevus=df['img_name'].loc[df['common_nevus'] == 'X'].values\n",
    "atypical_nevus=df['img_name'].loc[df['atypical_nevus'] == 'X'].values\n",
    "melanoma=df['img_name'].loc[df['Melanoma'] == 'X'].values\n"
   ]
  },
  {
   "cell_type": "code",
   "execution_count": 52,
   "metadata": {},
   "outputs": [
    {
     "data": {
      "text/plain": [
       "array(['IMD058', 'IMD061', 'IMD063', 'IMD064', 'IMD065', 'IMD080',\n",
       "       'IMD085', 'IMD088', 'IMD090', 'IMD091', 'IMD168', 'IMD211',\n",
       "       'IMD219', 'IMD240', 'IMD242', 'IMD284', 'IMD285', 'IMD348',\n",
       "       'IMD349', 'IMD403', 'IMD404', 'IMD405', 'IMD407', 'IMD408',\n",
       "       'IMD409', 'IMD410', 'IMD413', 'IMD417', 'IMD418', 'IMD419',\n",
       "       'IMD406', 'IMD411', 'IMD420', 'IMD421', 'IMD423', 'IMD424',\n",
       "       'IMD425', 'IMD426', 'IMD429', 'IMD435'], dtype=object)"
      ]
     },
     "execution_count": 52,
     "metadata": {},
     "output_type": "execute_result"
    }
   ],
   "source": [
    "melanoma"
   ]
  },
  {
   "cell_type": "markdown",
   "metadata": {},
   "source": [
    "<b>Membuat direktori baru untuk menyimpan datasets baru</b>"
   ]
  },
  {
   "cell_type": "code",
   "execution_count": 34,
   "metadata": {},
   "outputs": [],
   "source": [
    "path = 'PH2 Dataset images'\n",
    "new_dir= '/home/tama/DTS 2019/UAS'\n",
    "new_dir_com=os.path.join(new_dir,'commonNevus')\n",
    "new_dir_aty=os.path.join(new_dir,'atypicalNevus')\n",
    "new_dir_mela=os.path.join(new_dir,'melanoma')\n",
    "os.mkdir(new_dir_com)\n",
    "os.mkdir(new_dir_aty)\n",
    "os.mkdir(new_dir_mela)"
   ]
  },
  {
   "cell_type": "code",
   "execution_count": 45,
   "metadata": {},
   "outputs": [],
   "source": [
    "#!pwd"
   ]
  },
  {
   "cell_type": "markdown",
   "metadata": {},
   "source": [
    "<b>Copy file image common nevus dari folder PH2 Dataset images ke folder commonNevus</b>"
   ]
  },
  {
   "cell_type": "code",
   "execution_count": 36,
   "metadata": {},
   "outputs": [],
   "source": [
    "for i in common_nevus:\n",
    "    common_nevus_path=os.path.join(path,i,i+'_Dermoscopic_Image',i+'.bmp')\n",
    "    \n",
    "    try:\n",
    "        shutil.copy(common_nevus_path,new_dir_com)\n",
    "    except IOError as e:\n",
    "        print(\"Unable to copy file. %s\" % e)\n",
    "    except:\n",
    "        print(\"Unexpected error:\", sys.exc_info())"
   ]
  },
  {
   "cell_type": "markdown",
   "metadata": {},
   "source": [
    "<b>Copy file image common nevus dari folder PH2 Dataset images ke folder atypicalNevus</b>"
   ]
  },
  {
   "cell_type": "code",
   "execution_count": 37,
   "metadata": {},
   "outputs": [],
   "source": [
    "for i in atypical_nevus:\n",
    "    atypical_nevus_path=os.path.join(path,i,i+'_Dermoscopic_Image',i+'.bmp')\n",
    "    \n",
    "    try:\n",
    "        shutil.copy(atypical_nevus_path,new_dir_aty)\n",
    "    except IOError as e:\n",
    "        print(\"Unable to copy file. %s\" % e)\n",
    "    except:\n",
    "        print(\"Unexpected error:\", sys.exc_info())"
   ]
  },
  {
   "cell_type": "markdown",
   "metadata": {},
   "source": [
    "<b>Copy file image common nevus dari folder PH2 Dataset images ke folder melanoma</b>"
   ]
  },
  {
   "cell_type": "code",
   "execution_count": 38,
   "metadata": {},
   "outputs": [],
   "source": [
    "for i in melanoma:\n",
    "    melanoma_path=os.path.join(path,i,i+'_Dermoscopic_Image',i+'.bmp')\n",
    "    \n",
    "    try:\n",
    "        shutil.copy(melanoma_path,new_dir_mela)\n",
    "    except IOError as e:\n",
    "        print(\"Unable to copy file. %s\" % e)\n",
    "    except:\n",
    "        print(\"Unexpected error:\", sys.exc_info())"
   ]
  },
  {
   "cell_type": "code",
   "execution_count": null,
   "metadata": {},
   "outputs": [],
   "source": []
  }
 ],
 "metadata": {
  "kernelspec": {
   "display_name": "Python 3",
   "language": "python",
   "name": "python3"
  },
  "language_info": {
   "codemirror_mode": {
    "name": "ipython",
    "version": 3
   },
   "file_extension": ".py",
   "mimetype": "text/x-python",
   "name": "python",
   "nbconvert_exporter": "python",
   "pygments_lexer": "ipython3",
   "version": "3.7.3"
  }
 },
 "nbformat": 4,
 "nbformat_minor": 2
}
