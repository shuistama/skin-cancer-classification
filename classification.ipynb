{
 "cells": [
  {
   "cell_type": "markdown",
   "metadata": {},
   "source": [
    "# Yusuf Pratama"
   ]
  },
  {
   "cell_type": "code",
   "execution_count": 13,
   "metadata": {
    "scrolled": true
   },
   "outputs": [
    {
     "name": "stdout",
     "output_type": "stream",
     "text": [
      "[INFO] extracting image features Original Data 3 Kelas\n",
      "[INFO] using svm model\n",
      "[INFO] evaluating...\n",
      "               precision    recall  f1-score   support\n",
      "\n",
      "atypicalNevus       0.20      1.00      0.33         4\n",
      "  commonNevus       0.00      0.00      0.00        11\n",
      "     melanoma       0.00      0.00      0.00         5\n",
      "\n",
      "    micro avg       0.20      0.20      0.20        20\n",
      "    macro avg       0.07      0.33      0.11        20\n",
      " weighted avg       0.04      0.20      0.07        20\n",
      "\n"
     ]
    },
    {
     "name": "stderr",
     "output_type": "stream",
     "text": [
      "/home/tama/anaconda3/lib/python3.7/site-packages/sklearn/metrics/classification.py:1143: UndefinedMetricWarning: Precision and F-score are ill-defined and being set to 0.0 in labels with no predicted samples.\n",
      "  'precision', 'predicted', average, warn_for)\n"
     ]
    }
   ],
   "source": [
    "%run -i classify.py -m svm"
   ]
  },
  {
   "cell_type": "code",
   "execution_count": 2,
   "metadata": {},
   "outputs": [
    {
     "name": "stdout",
     "output_type": "stream",
     "text": [
      "[INFO] extracting image features Original Data 3 Kelas\n",
      "[INFO] using knn model\n",
      "[INFO] evaluating...\n",
      "               precision    recall  f1-score   support\n",
      "\n",
      "atypicalNevus       0.25      0.40      0.31         5\n",
      "  commonNevus       0.62      0.62      0.62         8\n",
      "     melanoma       0.75      0.43      0.55         7\n",
      "\n",
      "    micro avg       0.50      0.50      0.50        20\n",
      "    macro avg       0.54      0.48      0.49        20\n",
      " weighted avg       0.57      0.50      0.52        20\n",
      "\n"
     ]
    }
   ],
   "source": [
    "%run -i classify.py -m knn"
   ]
  },
  {
   "cell_type": "code",
   "execution_count": 3,
   "metadata": {},
   "outputs": [
    {
     "name": "stdout",
     "output_type": "stream",
     "text": [
      "[INFO] extracting image features Original Data 3 Kelas\n",
      "[INFO] using naive_bayes model\n",
      "[INFO] evaluating...\n",
      "               precision    recall  f1-score   support\n",
      "\n",
      "atypicalNevus       0.43      0.60      0.50         5\n",
      "  commonNevus       0.67      0.67      0.67         9\n",
      "     melanoma       0.75      0.50      0.60         6\n",
      "\n",
      "    micro avg       0.60      0.60      0.60        20\n",
      "    macro avg       0.62      0.59      0.59        20\n",
      " weighted avg       0.63      0.60      0.60        20\n",
      "\n"
     ]
    }
   ],
   "source": [
    "%run -i classify.py -m naive_bayes"
   ]
  },
  {
   "cell_type": "code",
   "execution_count": 4,
   "metadata": {},
   "outputs": [
    {
     "name": "stdout",
     "output_type": "stream",
     "text": [
      "[INFO] extracting image features Original Data 3 Kelas\n",
      "[INFO] using random_forest model\n",
      "[INFO] evaluating...\n",
      "               precision    recall  f1-score   support\n",
      "\n",
      "atypicalNevus       0.88      0.78      0.82         9\n",
      "  commonNevus       0.57      0.67      0.62         6\n",
      "     melanoma       0.80      0.80      0.80         5\n",
      "\n",
      "    micro avg       0.75      0.75      0.75        20\n",
      "    macro avg       0.75      0.75      0.75        20\n",
      " weighted avg       0.77      0.75      0.76        20\n",
      "\n"
     ]
    }
   ],
   "source": [
    "%run -i classify.py -m random_forest"
   ]
  },
  {
   "cell_type": "code",
   "execution_count": 5,
   "metadata": {},
   "outputs": [
    {
     "name": "stdout",
     "output_type": "stream",
     "text": [
      "[INFO] extracting image features Original Data 2 Kelas\n",
      "[INFO] using svm model\n",
      "[INFO] evaluating...\n",
      "              precision    recall  f1-score   support\n",
      "\n",
      "    melanoma       0.00      0.00      0.00         1\n",
      " nonmelanoma       0.95      1.00      0.97        19\n",
      "\n",
      "   micro avg       0.95      0.95      0.95        20\n",
      "   macro avg       0.47      0.50      0.49        20\n",
      "weighted avg       0.90      0.95      0.93        20\n",
      "\n"
     ]
    },
    {
     "name": "stderr",
     "output_type": "stream",
     "text": [
      "/home/tama/anaconda3/lib/python3.7/site-packages/sklearn/metrics/classification.py:1143: UndefinedMetricWarning: Precision and F-score are ill-defined and being set to 0.0 in labels with no predicted samples.\n",
      "  'precision', 'predicted', average, warn_for)\n"
     ]
    }
   ],
   "source": [
    "%run -i classify.py -m svm -d 'Original Data 2 Kelas'"
   ]
  },
  {
   "cell_type": "code",
   "execution_count": 6,
   "metadata": {},
   "outputs": [
    {
     "name": "stdout",
     "output_type": "stream",
     "text": [
      "[INFO] extracting image features Original Data 2 Kelas\n",
      "[INFO] using knn model\n",
      "[INFO] evaluating...\n",
      "              precision    recall  f1-score   support\n",
      "\n",
      "    melanoma       0.50      0.50      0.50         2\n",
      " nonmelanoma       0.94      0.94      0.94        18\n",
      "\n",
      "   micro avg       0.90      0.90      0.90        20\n",
      "   macro avg       0.72      0.72      0.72        20\n",
      "weighted avg       0.90      0.90      0.90        20\n",
      "\n"
     ]
    }
   ],
   "source": [
    "%run -i classify.py -m knn -d 'Original Data 2 Kelas'"
   ]
  },
  {
   "cell_type": "code",
   "execution_count": 7,
   "metadata": {},
   "outputs": [
    {
     "name": "stdout",
     "output_type": "stream",
     "text": [
      "[INFO] extracting image features Original Data 2 Kelas\n",
      "[INFO] using naive_bayes model\n",
      "[INFO] evaluating...\n",
      "              precision    recall  f1-score   support\n",
      "\n",
      "    melanoma       1.00      0.75      0.86         4\n",
      " nonmelanoma       0.94      1.00      0.97        16\n",
      "\n",
      "   micro avg       0.95      0.95      0.95        20\n",
      "   macro avg       0.97      0.88      0.91        20\n",
      "weighted avg       0.95      0.95      0.95        20\n",
      "\n"
     ]
    }
   ],
   "source": [
    "%run -i classify.py -m naive_bayes -d 'Original Data 2 Kelas'"
   ]
  },
  {
   "cell_type": "code",
   "execution_count": 8,
   "metadata": {},
   "outputs": [
    {
     "name": "stdout",
     "output_type": "stream",
     "text": [
      "[INFO] extracting image features Original Data 2 Kelas\n",
      "[INFO] using random_forest model\n",
      "[INFO] evaluating...\n",
      "              precision    recall  f1-score   support\n",
      "\n",
      "    melanoma       0.80      0.80      0.80         5\n",
      " nonmelanoma       0.93      0.93      0.93        15\n",
      "\n",
      "   micro avg       0.90      0.90      0.90        20\n",
      "   macro avg       0.87      0.87      0.87        20\n",
      "weighted avg       0.90      0.90      0.90        20\n",
      "\n"
     ]
    }
   ],
   "source": [
    "%run -i classify.py -m random_forest -d 'Original Data 2 Kelas'"
   ]
  }
 ],
 "metadata": {
  "kernelspec": {
   "display_name": "Python 3",
   "language": "python",
   "name": "python3"
  },
  "language_info": {
   "codemirror_mode": {
    "name": "ipython",
    "version": 3
   },
   "file_extension": ".py",
   "mimetype": "text/x-python",
   "name": "python",
   "nbconvert_exporter": "python",
   "pygments_lexer": "ipython3",
   "version": "3.7.3"
  }
 },
 "nbformat": 4,
 "nbformat_minor": 2
}
